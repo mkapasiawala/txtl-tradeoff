{
 "cells": [
  {
   "cell_type": "markdown",
   "id": "a8102db6-eddd-41a4-a7a1-02641274c167",
   "metadata": {},
   "source": [
    "# Tidying data from titration experiments"
   ]
  },
  {
   "cell_type": "code",
   "execution_count": 19,
   "id": "c4991474-fa17-4a32-8e25-97815c073ac5",
   "metadata": {},
   "outputs": [],
   "source": [
    "# data analysis and computing packages\n",
    "import numpy as np\n",
    "import pandas as pd\n",
    "\n",
    "# echo tools\n",
    "import murraylab_tools.biotek as mt_biotek\n",
    "import os"
   ]
  },
  {
   "cell_type": "markdown",
   "id": "ebfd1904-0a0e-4906-9184-a8f9281e0e15",
   "metadata": {},
   "source": [
    "# Create tidy data CSVs for each of the experiments"
   ]
  },
  {
   "cell_type": "code",
   "execution_count": 23,
   "id": "db495a60-fa31-4a9e-8d86-8db39d530bcb",
   "metadata": {},
   "outputs": [],
   "source": [
    "# list of all relevant experiments\n",
    "expt_lst = [\n",
    "            '20220513_TXTL_WP_ZJ_Titration_of_3PGA_MGapt_deGFP',\n",
    "            '20220514_TXTL_WP_ZJ_Titration_of_Maltose_MGapt_deGFP',\n",
    "            '20220515_TXTL_WP_ZJ_Titration_of_Succinate_MGapt_deGFP',\n",
    "            '20220517_TXTL_WP_ZJ_Titration_of_Pyruvate_MGapt_deGFP',\n",
    "            '20220519_TXTL_WP_ZJ_Titration_of_NTPs_ATP_GTP_and_Fuel_Neg_Ctrls_MGapt_deGFP',\n",
    "            '20220714_TXTL_WP_ZJ_Titration_of_3PGA_MGapt_deGFP_5nM_DNA',\n",
    "            '20220716_TXTL_WP_ZJ_Titration_of_Maltose_MGapt_deGFP_5nM_DNA',\n",
    "            '20220717_TXTL_WP_ZJ_Titration_of_Succinate_MGapt_deGFP_5nM_DNA',\n",
    "            '20220718_TXTL_WP_ZJ_Titration_of_Pyruvate_MGapt_deGFP_5nM_DNA',\n",
    "            '20220720_TXTL_WP_ZJ_Titration_of_NTPs_ATP_GTP_and_Fuel_Neg_Ctrls_MGapt_deGFP_5nM_DNA',\n",
    "            '20220801_TXTL_WP_ZJ_Titration_of_3PGA_MGapt_deGFP_5nM_DNA_Dialyzed_Extract',\n",
    "            '20220803_TXTL_WP_ZJ_Titration_of_Maltose_MGapt_deGFP_5nM_DNA_Dialyzed_Extract',\n",
    "            '20220804_TXTL_WP_ZJ_Titration_of_Succinate_MGapt_deGFP_5nM_DNA_Dialyzed_Extract',\n",
    "            '20220805_TXTL_WP_ZJ_Titration_of_Pyruvate_MGapt_deGFP_5nM_DNA_Dialyzed_Extract',\n",
    "            '20220809_TXTL_WP_ZJ_Titration_of_NTPs_ATP_GTP_and_Fuel_Neg_Ctrls_MGapt_deGFP_5nM_DNA_Dialyzed_Extract',\n",
    "            '20220816_TXTL_WP_ZJ_Validation_Data',\n",
    "            '20230224_TL_only_3PGA_5nM_DNA_Dialyzed_Extract',\n",
    "           ]\n",
    "file_loc = \"..\\\\Raw Data\\\\\""
   ]
  },
  {
   "cell_type": "code",
   "execution_count": 24,
   "id": "6dccd94d-0f62-4b10-bfc3-d570991c4ce9",
   "metadata": {},
   "outputs": [
    {
     "data": {
      "text/plain": [
       "{'deGFP': {'date': '03/04/22', 'b1': {61: 1587}},\n",
       " 'MGaptamer': {'date': '10/06/22', 'b1': {150: 4520}}}"
      ]
     },
     "execution_count": 24,
     "metadata": {},
     "output_type": "execute_result"
    }
   ],
   "source": [
    "# load calibration data\n",
    "calibration_dict = mt_biotek.calibration_data(filename = 'calibration.csv')\n",
    "calibration_dict"
   ]
  },
  {
   "cell_type": "code",
   "execution_count": 25,
   "id": "0ce9d2d7-b6ed-46c4-96fe-2de344648160",
   "metadata": {},
   "outputs": [
    {
     "name": "stdout",
     "output_type": "stream",
     "text": [
      "20220513_TXTL_WP_ZJ_Titration_of_3PGA_MGapt_deGFP\n"
     ]
    },
    {
     "name": "stderr",
     "output_type": "stream",
     "text": [
      "c:\\users\\manis\\murraylab_tools\\murraylab_tools\\biotek\\biotek.py:320: UserWarning: Plate reader id overridden to be 'b1'\n",
      "  warnings.warn((\"Plate reader id overridden to be '%s'\") \\\n"
     ]
    },
    {
     "name": "stdout",
     "output_type": "stream",
     "text": [
      "20220514_TXTL_WP_ZJ_Titration_of_Maltose_MGapt_deGFP\n",
      "20220515_TXTL_WP_ZJ_Titration_of_Succinate_MGapt_deGFP\n",
      "20220517_TXTL_WP_ZJ_Titration_of_Pyruvate_MGapt_deGFP\n",
      "20220519_TXTL_WP_ZJ_Titration_of_NTPs_ATP_GTP_and_Fuel_Neg_Ctrls_MGapt_deGFP\n",
      "20220714_TXTL_WP_ZJ_Titration_of_3PGA_MGapt_deGFP_5nM_DNA\n",
      "20220716_TXTL_WP_ZJ_Titration_of_Maltose_MGapt_deGFP_5nM_DNA\n",
      "20220717_TXTL_WP_ZJ_Titration_of_Succinate_MGapt_deGFP_5nM_DNA\n",
      "20220718_TXTL_WP_ZJ_Titration_of_Pyruvate_MGapt_deGFP_5nM_DNA\n",
      "20220720_TXTL_WP_ZJ_Titration_of_NTPs_ATP_GTP_and_Fuel_Neg_Ctrls_MGapt_deGFP_5nM_DNA\n",
      "20220801_TXTL_WP_ZJ_Titration_of_3PGA_MGapt_deGFP_5nM_DNA_Dialyzed_Extract\n"
     ]
    },
    {
     "name": "stderr",
     "output_type": "stream",
     "text": [
      "c:\\users\\manis\\murraylab_tools\\murraylab_tools\\biotek\\biotek.py:494: UserWarning: No supplementary data for well G2; throwing out data for that well.\n",
      "  warnings.warn(\"No supplementary data for well \" + \\\n",
      "c:\\users\\manis\\murraylab_tools\\murraylab_tools\\biotek\\biotek.py:494: UserWarning: No supplementary data for well G3; throwing out data for that well.\n",
      "  warnings.warn(\"No supplementary data for well \" + \\\n",
      "c:\\users\\manis\\murraylab_tools\\murraylab_tools\\biotek\\biotek.py:494: UserWarning: No supplementary data for well G4; throwing out data for that well.\n",
      "  warnings.warn(\"No supplementary data for well \" + \\\n",
      "c:\\users\\manis\\murraylab_tools\\murraylab_tools\\biotek\\biotek.py:494: UserWarning: No supplementary data for well G5; throwing out data for that well.\n",
      "  warnings.warn(\"No supplementary data for well \" + \\\n",
      "c:\\users\\manis\\murraylab_tools\\murraylab_tools\\biotek\\biotek.py:494: UserWarning: No supplementary data for well G6; throwing out data for that well.\n",
      "  warnings.warn(\"No supplementary data for well \" + \\\n",
      "c:\\users\\manis\\murraylab_tools\\murraylab_tools\\biotek\\biotek.py:494: UserWarning: No supplementary data for well G7; throwing out data for that well.\n",
      "  warnings.warn(\"No supplementary data for well \" + \\\n",
      "c:\\users\\manis\\murraylab_tools\\murraylab_tools\\biotek\\biotek.py:494: UserWarning: No supplementary data for well G8; throwing out data for that well.\n",
      "  warnings.warn(\"No supplementary data for well \" + \\\n",
      "c:\\users\\manis\\murraylab_tools\\murraylab_tools\\biotek\\biotek.py:494: UserWarning: No supplementary data for well G9; throwing out data for that well.\n",
      "  warnings.warn(\"No supplementary data for well \" + \\\n",
      "c:\\users\\manis\\murraylab_tools\\murraylab_tools\\biotek\\biotek.py:494: UserWarning: No supplementary data for well G10; throwing out data for that well.\n",
      "  warnings.warn(\"No supplementary data for well \" + \\\n",
      "c:\\users\\manis\\murraylab_tools\\murraylab_tools\\biotek\\biotek.py:494: UserWarning: No supplementary data for well G11; throwing out data for that well.\n",
      "  warnings.warn(\"No supplementary data for well \" + \\\n",
      "c:\\users\\manis\\murraylab_tools\\murraylab_tools\\biotek\\biotek.py:494: UserWarning: No supplementary data for well G12; throwing out data for that well.\n",
      "  warnings.warn(\"No supplementary data for well \" + \\\n",
      "c:\\users\\manis\\murraylab_tools\\murraylab_tools\\biotek\\biotek.py:494: UserWarning: No supplementary data for well G13; throwing out data for that well.\n",
      "  warnings.warn(\"No supplementary data for well \" + \\\n"
     ]
    },
    {
     "name": "stdout",
     "output_type": "stream",
     "text": [
      "20220803_TXTL_WP_ZJ_Titration_of_Maltose_MGapt_deGFP_5nM_DNA_Dialyzed_Extract\n",
      "20220804_TXTL_WP_ZJ_Titration_of_Succinate_MGapt_deGFP_5nM_DNA_Dialyzed_Extract\n",
      "20220805_TXTL_WP_ZJ_Titration_of_Pyruvate_MGapt_deGFP_5nM_DNA_Dialyzed_Extract\n",
      "20220809_TXTL_WP_ZJ_Titration_of_NTPs_ATP_GTP_and_Fuel_Neg_Ctrls_MGapt_deGFP_5nM_DNA_Dialyzed_Extract\n",
      "20220816_TXTL_WP_ZJ_Validation_Data\n",
      "20230224_TL_only_3PGA_5nM_DNA_Dialyzed_Extract\n"
     ]
    }
   ],
   "source": [
    "# iterate through experiments, make each one tidy :)\n",
    "for this_expt in expt_lst:\n",
    "    # specify input and output folders\n",
    "    inputfolder = os.path.join(file_loc, this_expt+'\\\\')\n",
    "    outputfolder = os.path.join(file_loc, this_expt+'\\\\')\n",
    "    # specify file names\n",
    "    data_name = this_expt\n",
    "    data_filename = os.path.join(inputfolder, data_name+\"_Results.csv\")\n",
    "    tidy_filename = os.path.join(outputfolder,data_name+\"_Results_tidy.csv\")\n",
    "    # specify supplementary file containing metadata on what conditions pertain to each well\n",
    "    supplementary_filename = os.path.join(inputfolder, data_name+'_supplementary_info.csv')\n",
    "    # provide calibration data if available\n",
    "    print(this_expt)\n",
    "    mt_biotek.tidy_biotek_data(data_filename, \n",
    "                               supplementary_filename,\n",
    "                               volume = 10, \n",
    "                               calibration_dict = calibration_dict,\n",
    "                               convert_to_uM = True,\n",
    "                               override_plate_reader_id='b1',\n",
    "                               output_filename = tidy_filename)"
   ]
  },
  {
   "cell_type": "code",
   "execution_count": 26,
   "id": "f6def240-220a-4eb0-a58e-9a381d241b7a",
   "metadata": {},
   "outputs": [],
   "source": [
    "# list of all relevant experiments\n",
    "expt_lst2 = [\n",
    "            '20231011_TXTL_Titration_of_3PGA_MGapt_deGFP_2.5nM_DNA_Dialyzed_Extract',\n",
    "            '20231016_TXTL_Titration_of_3PGA_MGapt_deGFP_7.5nM_DNA_Dialyzed_Extract',\n",
    "            '20231017_TXTL_Titration_of_3PGA_MGapt_deGFP_10nM_DNA_Dialyzed_Extract',\n",
    "            '20231018_TXTL_Titration_of_3PGA_MGapt_deGFP_5nM_DNA_Dialyzed_Extract_0.41',\n",
    "            '20231019_TXTL_Titration_of_3PGA_MGapt_deGFP_5nM_DNA_Dialyzed_Extract_0.25',\n",
    "            '20231020_TXTL_Titration_of_3PGA_MGapt_deGFP_5nM_DNA_Dialyzed_Extract',\n",
    "            '20240223_TXTL_Titration_of_3PGA_MGapt_deGFP_1nM_DNA_Dialyzed_Extract',\n",
    "            '20231122_TXTL_Titration_of_3PGA_Pepperapt_mTurq2_5nM_DNA_Dialyzed_Extract',\n",
    "            '20231212_TXTL_Titration_of_3PGA_MGapt_deGFP_5nM_DNA_Dialyzed_Extract',\n",
    "            '20240214_TXTL_Titration_of_3PGA_pMK19_5nM_DNA_Dialyzed_Extract',\n",
    "            '20240216_TXTL_Titration_of_3PGA_pMK18_5nM_DNA_Dialyzed_Extract',\n",
    "            '20240426_TX_only_w_Tetracycline_3PGA_5nM_DNA_Dialyzed_Extract',\n",
    "            '20240726_TXTL_Titration_of_3PGA_pZJQ35_5nM_DNA_Dialyzed_Extract'\n",
    "           ]\n",
    "file_loc = \"../Raw Data/\""
   ]
  },
  {
   "cell_type": "code",
   "execution_count": 27,
   "id": "bb1f4e1c-9eef-4676-a21b-91f3a148d564",
   "metadata": {},
   "outputs": [
    {
     "data": {
      "text/plain": [
       "{'deGFP': {'date': '01/24/24', 'b1': {61: 1182}},\n",
       " 'MGaptamer': {'date': '02/05/24', 'b1': {150: 3298}}}"
      ]
     },
     "execution_count": 27,
     "metadata": {},
     "output_type": "execute_result"
    }
   ],
   "source": [
    "# load calibration data\n",
    "calibration_dict = mt_biotek.calibration_data(filename = 'calibration2.csv')\n",
    "calibration_dict"
   ]
  },
  {
   "cell_type": "code",
   "execution_count": 28,
   "id": "c9e6af5e-cfab-4a6c-99c9-2310a50da59b",
   "metadata": {},
   "outputs": [
    {
     "name": "stdout",
     "output_type": "stream",
     "text": [
      "20231011_TXTL_Titration_of_3PGA_MGapt_deGFP_2.5nM_DNA_Dialyzed_Extract\n"
     ]
    },
    {
     "name": "stderr",
     "output_type": "stream",
     "text": [
      "c:\\users\\manis\\murraylab_tools\\murraylab_tools\\biotek\\biotek.py:320: UserWarning: Plate reader id overridden to be 'b1'\n",
      "  warnings.warn((\"Plate reader id overridden to be '%s'\") \\\n",
      "c:\\users\\manis\\murraylab_tools\\murraylab_tools\\biotek\\biotek.py:494: UserWarning: No supplementary data for well G18; throwing out data for that well.\n",
      "  warnings.warn(\"No supplementary data for well \" + \\\n",
      "c:\\users\\manis\\murraylab_tools\\murraylab_tools\\biotek\\biotek.py:494: UserWarning: No supplementary data for well G19; throwing out data for that well.\n",
      "  warnings.warn(\"No supplementary data for well \" + \\\n",
      "c:\\users\\manis\\murraylab_tools\\murraylab_tools\\biotek\\biotek.py:494: UserWarning: No supplementary data for well G20; throwing out data for that well.\n",
      "  warnings.warn(\"No supplementary data for well \" + \\\n"
     ]
    },
    {
     "name": "stdout",
     "output_type": "stream",
     "text": [
      "20231016_TXTL_Titration_of_3PGA_MGapt_deGFP_7.5nM_DNA_Dialyzed_Extract\n",
      "20231017_TXTL_Titration_of_3PGA_MGapt_deGFP_10nM_DNA_Dialyzed_Extract\n",
      "20231018_TXTL_Titration_of_3PGA_MGapt_deGFP_5nM_DNA_Dialyzed_Extract_0.41\n",
      "20231019_TXTL_Titration_of_3PGA_MGapt_deGFP_5nM_DNA_Dialyzed_Extract_0.25\n",
      "20231020_TXTL_Titration_of_3PGA_MGapt_deGFP_5nM_DNA_Dialyzed_Extract\n",
      "20240223_TXTL_Titration_of_3PGA_MGapt_deGFP_1nM_DNA_Dialyzed_Extract\n",
      "20231122_TXTL_Titration_of_3PGA_Pepperapt_mTurq2_5nM_DNA_Dialyzed_Extract\n"
     ]
    },
    {
     "name": "stderr",
     "output_type": "stream",
     "text": [
      "c:\\users\\manis\\murraylab_tools\\murraylab_tools\\biotek\\biotek.py:141: UserWarning: Unable to convert channel Pepper into standard channel name. Are you sure this is the right name?\n",
      "  warnings.warn((\"Unable to convert channel %s into standard channel \" + \\\n",
      "c:\\users\\manis\\murraylab_tools\\murraylab_tools\\biotek\\biotek.py:141: UserWarning: Unable to convert channel mTurquoise2 into standard channel name. Are you sure this is the right name?\n",
      "  warnings.warn((\"Unable to convert channel %s into standard channel \" + \\\n"
     ]
    },
    {
     "name": "stdout",
     "output_type": "stream",
     "text": [
      "20231212_TXTL_Titration_of_3PGA_MGapt_deGFP_5nM_DNA_Dialyzed_Extract\n",
      "20240214_TXTL_Titration_of_3PGA_pMK19_5nM_DNA_Dialyzed_Extract\n",
      "20240216_TXTL_Titration_of_3PGA_pMK18_5nM_DNA_Dialyzed_Extract\n",
      "20240426_TX_only_w_Tetracycline_3PGA_5nM_DNA_Dialyzed_Extract\n"
     ]
    },
    {
     "name": "stderr",
     "output_type": "stream",
     "text": [
      "c:\\users\\manis\\murraylab_tools\\murraylab_tools\\biotek\\biotek.py:494: UserWarning: No supplementary data for well G17; throwing out data for that well.\n",
      "  warnings.warn(\"No supplementary data for well \" + \\\n"
     ]
    },
    {
     "name": "stdout",
     "output_type": "stream",
     "text": [
      "20240726_TXTL_Titration_of_3PGA_pZJQ35_5nM_DNA_Dialyzed_Extract\n"
     ]
    }
   ],
   "source": [
    "# iterate through experiments, make each one tidy :)\n",
    "for this_expt in expt_lst2:\n",
    "    # specify input and output folders\n",
    "    inputfolder = os.path.join(file_loc, this_expt)\n",
    "    outputfolder = os.path.join(file_loc, this_expt)\n",
    "    # specify file names\n",
    "    data_name = this_expt\n",
    "    data_filename = os.path.join(inputfolder, data_name+\"_Results.csv\")\n",
    "    tidy_filename = os.path.join(outputfolder,data_name+\"_Results_tidy.csv\")\n",
    "    # specify supplementary file containing metadata on what conditions pertain to each well\n",
    "    supplementary_filename = os.path.join(inputfolder, data_name+'_supplementary_info.csv')\n",
    "    # provide calibration data if available\n",
    "    print(this_expt)\n",
    "    mt_biotek.tidy_biotek_data(data_filename, \n",
    "                               supplementary_filename,\n",
    "                               volume = 10, \n",
    "                               calibration_dict = calibration_dict,\n",
    "                               convert_to_uM = True,\n",
    "                               override_plate_reader_id='b1',\n",
    "                               output_filename = tidy_filename)"
   ]
  },
  {
   "cell_type": "code",
   "execution_count": 29,
   "id": "e1125840-791f-408c-b187-778ac4a4bc8e",
   "metadata": {},
   "outputs": [],
   "source": [
    "# list of all relevant experiments\n",
    "expt_lst3 = [\n",
    "            '20230501_TX_only_w_Tetracycline_3PGA_5nM_DNA_Dialyzed_Extract'\n",
    "           ]\n",
    "file_loc = \"../Raw Data/\""
   ]
  },
  {
   "cell_type": "code",
   "execution_count": 30,
   "id": "c4b388a8-c0e2-41a5-835b-f53422677f78",
   "metadata": {},
   "outputs": [
    {
     "data": {
      "text/plain": [
       "{'deGFP': {'date': '03/04/22', 'b1': {61: 5555}},\n",
       " 'MGaptamer': {'date': '10/06/22', 'b1': {150: 22250}}}"
      ]
     },
     "execution_count": 30,
     "metadata": {},
     "output_type": "execute_result"
    }
   ],
   "source": [
    "# load calibration data\n",
    "calibration_dict = mt_biotek.calibration_data(filename = 'calibration3.csv')\n",
    "calibration_dict"
   ]
  },
  {
   "cell_type": "code",
   "execution_count": 31,
   "id": "66c4fce8-2b31-4a74-95b3-d73d26903f90",
   "metadata": {},
   "outputs": [
    {
     "name": "stdout",
     "output_type": "stream",
     "text": [
      "20230501_TX_only_w_Tetracycline_3PGA_5nM_DNA_Dialyzed_Extract\n"
     ]
    },
    {
     "name": "stderr",
     "output_type": "stream",
     "text": [
      "c:\\users\\manis\\murraylab_tools\\murraylab_tools\\biotek\\biotek.py:320: UserWarning: Plate reader id overridden to be 'b1'\n",
      "  warnings.warn((\"Plate reader id overridden to be '%s'\") \\\n",
      "c:\\users\\manis\\murraylab_tools\\murraylab_tools\\biotek\\biotek.py:494: UserWarning: No supplementary data for well N21; throwing out data for that well.\n",
      "  warnings.warn(\"No supplementary data for well \" + \\\n",
      "c:\\users\\manis\\murraylab_tools\\murraylab_tools\\biotek\\biotek.py:494: UserWarning: No supplementary data for well N22; throwing out data for that well.\n",
      "  warnings.warn(\"No supplementary data for well \" + \\\n",
      "c:\\users\\manis\\murraylab_tools\\murraylab_tools\\biotek\\biotek.py:494: UserWarning: No supplementary data for well N23; throwing out data for that well.\n",
      "  warnings.warn(\"No supplementary data for well \" + \\\n"
     ]
    }
   ],
   "source": [
    "# iterate through experiments, make each one tidy :)\n",
    "for this_expt in expt_lst3:\n",
    "    # specify input and output folders\n",
    "    inputfolder = os.path.join(file_loc, this_expt)\n",
    "    outputfolder = os.path.join(file_loc, this_expt)\n",
    "    # specify file names\n",
    "    data_name = this_expt\n",
    "    data_filename = os.path.join(inputfolder, data_name+\"_Results.csv\")\n",
    "    tidy_filename = os.path.join(outputfolder,data_name+\"_Results_tidy.csv\")\n",
    "    # specify supplementary file containing metadata on what conditions pertain to each well\n",
    "    supplementary_filename = os.path.join(inputfolder, data_name+'_supplementary_info.csv')\n",
    "    # provide calibration data if available\n",
    "    print(this_expt)\n",
    "    mt_biotek.tidy_biotek_data(data_filename, \n",
    "                               supplementary_filename,\n",
    "                               volume = 10, \n",
    "                               calibration_dict = calibration_dict,\n",
    "                               convert_to_uM = True,\n",
    "                               override_plate_reader_id='b1',\n",
    "                               output_filename = tidy_filename)"
   ]
  },
  {
   "cell_type": "markdown",
   "id": "56ba2f39-fcd9-49b3-84da-f1934cf07a22",
   "metadata": {},
   "source": [
    "#  "
   ]
  },
  {
   "cell_type": "markdown",
   "id": "f2addd0f-ae61-49db-94a5-ce9301c9e403",
   "metadata": {},
   "source": [
    "# Create master CSV with all tidy data appended to it"
   ]
  },
  {
   "cell_type": "code",
   "execution_count": 32,
   "id": "0e5af6a0-c36f-40b1-8d74-f70ad57a3bfa",
   "metadata": {},
   "outputs": [],
   "source": [
    "# iterate through experiments\n",
    "for index, this_expt in enumerate(expt_lst+expt_lst2+expt_lst3):\n",
    "    # extract tidy data csv for each\n",
    "    tidy_csv_loc = os.path.join(file_loc, this_expt,this_expt+\"_Results_tidy.csv\")\n",
    "    temp_df = pd.read_csv(tidy_csv_loc)\n",
    "    # if first data set, create new dataframe from it\n",
    "    if index==0:\n",
    "        master_df = temp_df\n",
    "    # else, append data to existing dataframe\n",
    "    else:\n",
    "        master_df = pd.concat([master_df, temp_df])\n",
    "\n",
    "# reset dataframe index\n",
    "master_df.reset_index(inplace=True, drop=True)"
   ]
  },
  {
   "cell_type": "code",
   "execution_count": 33,
   "id": "6d3a45aa-b650-469d-b0aa-93fd47d54af6",
   "metadata": {},
   "outputs": [
    {
     "data": {
      "text/html": [
       "<div>\n",
       "<style scoped>\n",
       "    .dataframe tbody tr th:only-of-type {\n",
       "        vertical-align: middle;\n",
       "    }\n",
       "\n",
       "    .dataframe tbody tr th {\n",
       "        vertical-align: top;\n",
       "    }\n",
       "\n",
       "    .dataframe thead th {\n",
       "        text-align: right;\n",
       "    }\n",
       "</style>\n",
       "<table border=\"1\" class=\"dataframe\">\n",
       "  <thead>\n",
       "    <tr style=\"text-align: right;\">\n",
       "      <th></th>\n",
       "      <th>Channel</th>\n",
       "      <th>Gain</th>\n",
       "      <th>Time (sec)</th>\n",
       "      <th>Time (hr)</th>\n",
       "      <th>Well</th>\n",
       "      <th>Measurement</th>\n",
       "      <th>Units</th>\n",
       "      <th>Excitation</th>\n",
       "      <th>Emission</th>\n",
       "      <th>Fuel</th>\n",
       "      <th>...</th>\n",
       "      <th>Mg (mM)</th>\n",
       "      <th>Fuel (mM)</th>\n",
       "      <th>Replicate</th>\n",
       "      <th>Extract</th>\n",
       "      <th>Extract fraction</th>\n",
       "      <th>NTPs (mM)</th>\n",
       "      <th>Added ATP (mM)</th>\n",
       "      <th>Added GTP (mM)</th>\n",
       "      <th>Tetratcycline (ug/mL)</th>\n",
       "      <th>ChanStr</th>\n",
       "    </tr>\n",
       "  </thead>\n",
       "  <tbody>\n",
       "    <tr>\n",
       "      <th>2717831</th>\n",
       "      <td>deGFP</td>\n",
       "      <td>61</td>\n",
       "      <td>64870</td>\n",
       "      <td>18.019444</td>\n",
       "      <td>N16</td>\n",
       "      <td>0.035464</td>\n",
       "      <td>uM</td>\n",
       "      <td>485</td>\n",
       "      <td>515</td>\n",
       "      <td>3PGA</td>\n",
       "      <td>...</td>\n",
       "      <td>10</td>\n",
       "      <td>45</td>\n",
       "      <td>2</td>\n",
       "      <td>DAJ_MK_MY</td>\n",
       "      <td>0.33</td>\n",
       "      <td>4.8</td>\n",
       "      <td>0</td>\n",
       "      <td>0</td>\n",
       "      <td>200</td>\n",
       "      <td>deGFP61485515</td>\n",
       "    </tr>\n",
       "    <tr>\n",
       "      <th>2717832</th>\n",
       "      <td>deGFP</td>\n",
       "      <td>61</td>\n",
       "      <td>64870</td>\n",
       "      <td>18.019444</td>\n",
       "      <td>N17</td>\n",
       "      <td>0.034743</td>\n",
       "      <td>uM</td>\n",
       "      <td>485</td>\n",
       "      <td>515</td>\n",
       "      <td>3PGA</td>\n",
       "      <td>...</td>\n",
       "      <td>10</td>\n",
       "      <td>45</td>\n",
       "      <td>3</td>\n",
       "      <td>DAJ_MK_MY</td>\n",
       "      <td>0.33</td>\n",
       "      <td>4.8</td>\n",
       "      <td>0</td>\n",
       "      <td>0</td>\n",
       "      <td>200</td>\n",
       "      <td>deGFP61485515</td>\n",
       "    </tr>\n",
       "    <tr>\n",
       "      <th>2717833</th>\n",
       "      <td>deGFP</td>\n",
       "      <td>61</td>\n",
       "      <td>64870</td>\n",
       "      <td>18.019444</td>\n",
       "      <td>N18</td>\n",
       "      <td>12.708191</td>\n",
       "      <td>uM</td>\n",
       "      <td>485</td>\n",
       "      <td>515</td>\n",
       "      <td>3PGA</td>\n",
       "      <td>...</td>\n",
       "      <td>0</td>\n",
       "      <td>0</td>\n",
       "      <td>1</td>\n",
       "      <td>DAJ_MK_MY</td>\n",
       "      <td>0.33</td>\n",
       "      <td>4.8</td>\n",
       "      <td>0</td>\n",
       "      <td>0</td>\n",
       "      <td>0</td>\n",
       "      <td>deGFP61485515</td>\n",
       "    </tr>\n",
       "    <tr>\n",
       "      <th>2717834</th>\n",
       "      <td>deGFP</td>\n",
       "      <td>61</td>\n",
       "      <td>64870</td>\n",
       "      <td>18.019444</td>\n",
       "      <td>N19</td>\n",
       "      <td>12.624842</td>\n",
       "      <td>uM</td>\n",
       "      <td>485</td>\n",
       "      <td>515</td>\n",
       "      <td>3PGA</td>\n",
       "      <td>...</td>\n",
       "      <td>0</td>\n",
       "      <td>0</td>\n",
       "      <td>2</td>\n",
       "      <td>DAJ_MK_MY</td>\n",
       "      <td>0.33</td>\n",
       "      <td>4.8</td>\n",
       "      <td>0</td>\n",
       "      <td>0</td>\n",
       "      <td>0</td>\n",
       "      <td>deGFP61485515</td>\n",
       "    </tr>\n",
       "    <tr>\n",
       "      <th>2717835</th>\n",
       "      <td>deGFP</td>\n",
       "      <td>61</td>\n",
       "      <td>64870</td>\n",
       "      <td>18.019444</td>\n",
       "      <td>N20</td>\n",
       "      <td>12.825383</td>\n",
       "      <td>uM</td>\n",
       "      <td>485</td>\n",
       "      <td>515</td>\n",
       "      <td>3PGA</td>\n",
       "      <td>...</td>\n",
       "      <td>0</td>\n",
       "      <td>0</td>\n",
       "      <td>3</td>\n",
       "      <td>DAJ_MK_MY</td>\n",
       "      <td>0.33</td>\n",
       "      <td>4.8</td>\n",
       "      <td>0</td>\n",
       "      <td>0</td>\n",
       "      <td>0</td>\n",
       "      <td>deGFP61485515</td>\n",
       "    </tr>\n",
       "  </tbody>\n",
       "</table>\n",
       "<p>5 rows × 24 columns</p>\n",
       "</div>"
      ],
      "text/plain": [
       "        Channel  Gain  Time (sec)  Time (hr) Well  Measurement Units  \\\n",
       "2717831   deGFP    61       64870  18.019444  N16     0.035464    uM   \n",
       "2717832   deGFP    61       64870  18.019444  N17     0.034743    uM   \n",
       "2717833   deGFP    61       64870  18.019444  N18    12.708191    uM   \n",
       "2717834   deGFP    61       64870  18.019444  N19    12.624842    uM   \n",
       "2717835   deGFP    61       64870  18.019444  N20    12.825383    uM   \n",
       "\n",
       "         Excitation  Emission  Fuel  ... Mg (mM)  Fuel (mM)  Replicate  \\\n",
       "2717831         485       515  3PGA  ...      10         45          2   \n",
       "2717832         485       515  3PGA  ...      10         45          3   \n",
       "2717833         485       515  3PGA  ...       0          0          1   \n",
       "2717834         485       515  3PGA  ...       0          0          2   \n",
       "2717835         485       515  3PGA  ...       0          0          3   \n",
       "\n",
       "           Extract  Extract fraction  NTPs (mM)  Added ATP (mM)  \\\n",
       "2717831  DAJ_MK_MY              0.33        4.8               0   \n",
       "2717832  DAJ_MK_MY              0.33        4.8               0   \n",
       "2717833  DAJ_MK_MY              0.33        4.8               0   \n",
       "2717834  DAJ_MK_MY              0.33        4.8               0   \n",
       "2717835  DAJ_MK_MY              0.33        4.8               0   \n",
       "\n",
       "        Added GTP (mM)  Tetratcycline (ug/mL)        ChanStr  \n",
       "2717831              0                    200  deGFP61485515  \n",
       "2717832              0                    200  deGFP61485515  \n",
       "2717833              0                      0  deGFP61485515  \n",
       "2717834              0                      0  deGFP61485515  \n",
       "2717835              0                      0  deGFP61485515  \n",
       "\n",
       "[5 rows x 24 columns]"
      ]
     },
     "execution_count": 33,
     "metadata": {},
     "output_type": "execute_result"
    }
   ],
   "source": [
    "# check to make sure operation worked okay\n",
    "master_df.tail()"
   ]
  },
  {
   "cell_type": "code",
   "execution_count": 34,
   "id": "5087724e-9634-4c21-987e-78db4e3282b2",
   "metadata": {},
   "outputs": [],
   "source": [
    "master_df.to_csv('../Tidy Data/tidy_data_calibrated_full.csv', index=False)"
   ]
  }
 ],
 "metadata": {
  "kernelspec": {
   "display_name": "Python 3 (ipykernel)",
   "language": "python",
   "name": "python3"
  },
  "language_info": {
   "codemirror_mode": {
    "name": "ipython",
    "version": 3
   },
   "file_extension": ".py",
   "mimetype": "text/x-python",
   "name": "python",
   "nbconvert_exporter": "python",
   "pygments_lexer": "ipython3",
   "version": "3.12.2"
  }
 },
 "nbformat": 4,
 "nbformat_minor": 5
}
